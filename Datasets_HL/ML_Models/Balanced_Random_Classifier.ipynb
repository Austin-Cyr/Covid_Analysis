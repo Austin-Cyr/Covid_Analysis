{
 "cells": [
  {
   "cell_type": "code",
   "execution_count": 2,
   "metadata": {},
   "outputs": [],
   "source": [
    "import numpy as np\n",
    "import pandas as pd\n",
    "from pathlib import Path\n",
    "from collections import Counter"
   ]
  },
  {
   "cell_type": "code",
   "execution_count": 4,
   "metadata": {},
   "outputs": [],
   "source": [
    "from sklearn.metrics import balanced_accuracy_score\n",
    "from sklearn.metrics import confusion_matrix\n",
    "from imblearn.metrics import classification_report_imbalanced\n",
    "from sklearn.model_selection import train_test_split"
   ]
  },
  {
   "cell_type": "code",
   "execution_count": null,
   "metadata": {},
   "outputs": [],
   "source": [
    "county_deaths = pd.read_csv()"
   ]
  },
  {
   "cell_type": "code",
   "execution_count": 4,
   "metadata": {},
   "outputs": [
    {
     "data": {
      "text/html": [
       "<div>\n",
       "<style scoped>\n",
       "    .dataframe tbody tr th:only-of-type {\n",
       "        vertical-align: middle;\n",
       "    }\n",
       "\n",
       "    .dataframe tbody tr th {\n",
       "        vertical-align: top;\n",
       "    }\n",
       "\n",
       "    .dataframe thead th {\n",
       "        text-align: right;\n",
       "    }\n",
       "</style>\n",
       "<table border=\"1\" class=\"dataframe\">\n",
       "  <thead>\n",
       "    <tr style=\"text-align: right;\">\n",
       "      <th></th>\n",
       "      <th>Unnamed: 0</th>\n",
       "      <th>Date</th>\n",
       "      <th>FIPS</th>\n",
       "      <th>Recip_County</th>\n",
       "      <th>Recip_State</th>\n",
       "      <th>Series_Complete_Pop_Pct</th>\n",
       "      <th>Metro_status</th>\n",
       "    </tr>\n",
       "  </thead>\n",
       "  <tbody>\n",
       "    <tr>\n",
       "      <th>0</th>\n",
       "      <td>0</td>\n",
       "      <td>10/22/2021</td>\n",
       "      <td>6113</td>\n",
       "      <td>Yolo County</td>\n",
       "      <td>CA</td>\n",
       "      <td>60.3</td>\n",
       "      <td>Metro</td>\n",
       "    </tr>\n",
       "    <tr>\n",
       "      <th>1</th>\n",
       "      <td>1</td>\n",
       "      <td>10/22/2021</td>\n",
       "      <td>13221</td>\n",
       "      <td>Oglethorpe County</td>\n",
       "      <td>GA</td>\n",
       "      <td>26.5</td>\n",
       "      <td>Metro</td>\n",
       "    </tr>\n",
       "    <tr>\n",
       "      <th>2</th>\n",
       "      <td>2</td>\n",
       "      <td>10/22/2021</td>\n",
       "      <td>26097</td>\n",
       "      <td>Mackinac County</td>\n",
       "      <td>MI</td>\n",
       "      <td>69.5</td>\n",
       "      <td>Non-metro</td>\n",
       "    </tr>\n",
       "    <tr>\n",
       "      <th>3</th>\n",
       "      <td>3</td>\n",
       "      <td>10/22/2021</td>\n",
       "      <td>29015</td>\n",
       "      <td>Benton County</td>\n",
       "      <td>MO</td>\n",
       "      <td>43.5</td>\n",
       "      <td>Non-metro</td>\n",
       "    </tr>\n",
       "    <tr>\n",
       "      <th>4</th>\n",
       "      <td>4</td>\n",
       "      <td>10/22/2021</td>\n",
       "      <td>16021</td>\n",
       "      <td>Boundary County</td>\n",
       "      <td>ID</td>\n",
       "      <td>29.2</td>\n",
       "      <td>Non-metro</td>\n",
       "    </tr>\n",
       "    <tr>\n",
       "      <th>...</th>\n",
       "      <td>...</td>\n",
       "      <td>...</td>\n",
       "      <td>...</td>\n",
       "      <td>...</td>\n",
       "      <td>...</td>\n",
       "      <td>...</td>\n",
       "      <td>...</td>\n",
       "    </tr>\n",
       "    <tr>\n",
       "      <th>3214</th>\n",
       "      <td>3278</td>\n",
       "      <td>10/22/2021</td>\n",
       "      <td>42125</td>\n",
       "      <td>Washington County</td>\n",
       "      <td>PA</td>\n",
       "      <td>58.2</td>\n",
       "      <td>Metro</td>\n",
       "    </tr>\n",
       "    <tr>\n",
       "      <th>3215</th>\n",
       "      <td>3279</td>\n",
       "      <td>10/22/2021</td>\n",
       "      <td>55057</td>\n",
       "      <td>Juneau County</td>\n",
       "      <td>WI</td>\n",
       "      <td>47.2</td>\n",
       "      <td>Non-metro</td>\n",
       "    </tr>\n",
       "    <tr>\n",
       "      <th>3216</th>\n",
       "      <td>3280</td>\n",
       "      <td>10/22/2021</td>\n",
       "      <td>48153</td>\n",
       "      <td>Floyd County</td>\n",
       "      <td>TX</td>\n",
       "      <td>40.6</td>\n",
       "      <td>Non-metro</td>\n",
       "    </tr>\n",
       "    <tr>\n",
       "      <th>3217</th>\n",
       "      <td>3281</td>\n",
       "      <td>10/22/2021</td>\n",
       "      <td>72061</td>\n",
       "      <td>Guaynabo Municipio</td>\n",
       "      <td>PR</td>\n",
       "      <td>80.8</td>\n",
       "      <td>Metro</td>\n",
       "    </tr>\n",
       "    <tr>\n",
       "      <th>3218</th>\n",
       "      <td>3282</td>\n",
       "      <td>10/22/2021</td>\n",
       "      <td>48269</td>\n",
       "      <td>King County</td>\n",
       "      <td>TX</td>\n",
       "      <td>19.9</td>\n",
       "      <td>Non-metro</td>\n",
       "    </tr>\n",
       "  </tbody>\n",
       "</table>\n",
       "<p>3219 rows × 7 columns</p>\n",
       "</div>"
      ],
      "text/plain": [
       "      Unnamed: 0        Date   FIPS        Recip_County Recip_State  \\\n",
       "0              0  10/22/2021   6113         Yolo County          CA   \n",
       "1              1  10/22/2021  13221   Oglethorpe County          GA   \n",
       "2              2  10/22/2021  26097     Mackinac County          MI   \n",
       "3              3  10/22/2021  29015       Benton County          MO   \n",
       "4              4  10/22/2021  16021     Boundary County          ID   \n",
       "...          ...         ...    ...                 ...         ...   \n",
       "3214        3278  10/22/2021  42125   Washington County          PA   \n",
       "3215        3279  10/22/2021  55057       Juneau County          WI   \n",
       "3216        3280  10/22/2021  48153        Floyd County          TX   \n",
       "3217        3281  10/22/2021  72061  Guaynabo Municipio          PR   \n",
       "3218        3282  10/22/2021  48269         King County          TX   \n",
       "\n",
       "      Series_Complete_Pop_Pct Metro_status  \n",
       "0                        60.3        Metro  \n",
       "1                        26.5        Metro  \n",
       "2                        69.5    Non-metro  \n",
       "3                        43.5    Non-metro  \n",
       "4                        29.2    Non-metro  \n",
       "...                       ...          ...  \n",
       "3214                     58.2        Metro  \n",
       "3215                     47.2    Non-metro  \n",
       "3216                     40.6    Non-metro  \n",
       "3217                     80.8        Metro  \n",
       "3218                     19.9    Non-metro  \n",
       "\n",
       "[3219 rows x 7 columns]"
      ]
     },
     "execution_count": 4,
     "metadata": {},
     "output_type": "execute_result"
    }
   ],
   "source": [
    "county_vax = pd.read_csv(\"../Vaccine_By_County/Formatted_Vax_by_County.csv\")\n",
    "county_vax"
   ]
  },
  {
   "cell_type": "code",
   "execution_count": null,
   "metadata": {},
   "outputs": [],
   "source": [
    "ml_df = pd.merge(county_vax, county_death ,on='FIPS',how='outer')"
   ]
  },
  {
   "cell_type": "code",
   "execution_count": null,
   "metadata": {},
   "outputs": [],
   "source": []
  },
  {
   "cell_type": "code",
   "execution_count": 3,
   "metadata": {},
   "outputs": [],
   "source": [
    "### Format columns for ml"
   ]
  },
  {
   "cell_type": "code",
   "execution_count": null,
   "metadata": {},
   "outputs": [],
   "source": [
    "from sklearn.preprocessing import LabelEncoder\n",
    "le = LabelEncoder()\n",
    "df2 = df.copy()\n",
    "df2[\"\"] = le.fit_transform(df2[\"\"])\n",
    "df2.head()\n",
    "loan_df = pd.get_dummies(df2, columns = [\"\", \"\", \"\", \"\", \"\",\"\", \"\", \"\", \"\"])\n",
    "# # # # # Create our features\n",
    "X = loan_df.copy()\n",
    "X = X.drop(\"(inserttargetcolumn)\", axis=1)\n",
    "\n",
    "\n",
    "# # # # Create our target\n",
    "y = loan_df[\"(inserttargetcolumn)\"]"
   ]
  },
  {
   "cell_type": "code",
   "execution_count": null,
   "metadata": {},
   "outputs": [],
   "source": [
    "X.describe()"
   ]
  },
  {
   "cell_type": "code",
   "execution_count": null,
   "metadata": {},
   "outputs": [],
   "source": [
    "# Check the balance of our target values\n",
    "Counter(y)"
   ]
  },
  {
   "cell_type": "code",
   "execution_count": null,
   "metadata": {},
   "outputs": [],
   "source": [
    "#Train test split\n",
    "X_train, X_test, y_train, y_test = train_test_split(X, y, random_state=1)"
   ]
  },
  {
   "cell_type": "code",
   "execution_count": null,
   "metadata": {},
   "outputs": [],
   "source": [
    "# Resample the training data with the BalancedRandomForestClassifier\n",
    "from imblearn.ensemble import BalancedRandomForestClassifier\n",
    "clf_model = BalancedRandomForestClassifier(n_estimators=100, random_state=1)\n",
    "clf_model = clf_model.fit(X_train, y_train)"
   ]
  },
  {
   "cell_type": "code",
   "execution_count": null,
   "metadata": {},
   "outputs": [],
   "source": [
    "# Calculated the balanced accuracy score\n",
    "predictions = clf_model.predict(X_test)\n",
    "balanced_accuracy_score(y_test, predictions)"
   ]
  },
  {
   "cell_type": "code",
   "execution_count": null,
   "metadata": {},
   "outputs": [],
   "source": [
    "# Display the confusion matrix\n",
    "confusion_matrix(y_test, predictions)"
   ]
  },
  {
   "cell_type": "code",
   "execution_count": null,
   "metadata": {},
   "outputs": [],
   "source": [
    "# Print the imbalanced classification report\n",
    "print(classification_report_imbalanced(y_test, predictions))"
   ]
  },
  {
   "cell_type": "code",
   "execution_count": null,
   "metadata": {},
   "outputs": [],
   "source": [
    "# List the features sorted in descending order by feature importance\n",
    "importances = sorted(zip(clf_model.feature_importances_, X.columns), reverse=True)\n",
    "importances"
   ]
  }
 ],
 "metadata": {
  "interpreter": {
   "hash": "71a735c93abbca4ce43c4316e431ab9ef39c0dcf561369d86366edfef8a2b1b7"
  },
  "kernelspec": {
   "display_name": "Python 3.7.10 64-bit ('mlenv': conda)",
   "name": "python3"
  },
  "language_info": {
   "codemirror_mode": {
    "name": "ipython",
    "version": 3
   },
   "file_extension": ".py",
   "mimetype": "text/x-python",
   "name": "python",
   "nbconvert_exporter": "python",
   "pygments_lexer": "ipython3",
   "version": "3.7.10"
  },
  "orig_nbformat": 4
 },
 "nbformat": 4,
 "nbformat_minor": 2
}
