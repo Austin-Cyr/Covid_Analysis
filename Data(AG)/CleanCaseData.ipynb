{
 "cells": [
  {
   "cell_type": "code",
   "execution_count": 1,
   "metadata": {},
   "outputs": [],
   "source": [
    "# Imports\n",
    "import pandas as pd"
   ]
  },
  {
   "cell_type": "code",
   "execution_count": 2,
   "metadata": {},
   "outputs": [
    {
     "name": "stderr",
     "output_type": "stream",
     "text": [
      "/Users/ATGass/opt/anaconda3/envs/3.7WorkSpace/lib/python3.7/site-packages/IPython/core/interactiveshell.py:3166: DtypeWarning: Columns (3,18) have mixed types.Specify dtype option on import or set low_memory=False.\n",
      "  interactivity=interactivity, compiler=compiler, result=result)\n"
     ]
    }
   ],
   "source": [
    "# Read CSV\n",
    "file_to_load = \"dirtycases.csv\"\n",
    "\n",
    "# Read the CSV into a DataFrame\n",
    "cases_df = pd.read_csv(file_to_load)"
   ]
  },
  {
   "cell_type": "code",
   "execution_count": 9,
   "metadata": {},
   "outputs": [
    {
     "data": {
      "text/plain": [
       "county_fips_code\n",
       "1001.0     9287\n",
       "1003.0    32575\n",
       "1005.0     2897\n",
       "1007.0     3853\n",
       "1009.0     9928\n",
       "dtype: int64"
      ]
     },
     "execution_count": 9,
     "metadata": {},
     "output_type": "execute_result"
    }
   ],
   "source": [
    "# Agg Cases by Fips no date\n",
    "groupedcases_df = cases_df.groupby([\"county_fips_code\"]).size()\n",
    "groupedcases_df.head()"
   ]
  },
  {
   "cell_type": "code",
   "execution_count": 10,
   "metadata": {},
   "outputs": [],
   "source": [
    "# Export to CSV\n",
    "groupedcases_df.to_csv('cases.csv')"
   ]
  },
  {
   "cell_type": "code",
   "execution_count": null,
   "metadata": {},
   "outputs": [],
   "source": [
    "# Agg Cases by Fips July to September 2021"
   ]
  }
 ],
 "metadata": {
  "interpreter": {
   "hash": "ae6d0c00d504821ce5a9dd6a19116cad880fb6704244ef2d82bba622075326b6"
  },
  "kernelspec": {
   "display_name": "Python 3.7.10 64-bit ('3.7WorkSpace': conda)",
   "name": "python3"
  },
  "language_info": {
   "codemirror_mode": {
    "name": "ipython",
    "version": 3
   },
   "file_extension": ".py",
   "mimetype": "text/x-python",
   "name": "python",
   "nbconvert_exporter": "python",
   "pygments_lexer": "ipython3",
   "version": "3.7.10"
  },
  "orig_nbformat": 4
 },
 "nbformat": 4,
 "nbformat_minor": 2
}
