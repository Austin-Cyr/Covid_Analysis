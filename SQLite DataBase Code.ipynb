{
 "cells": [
  {
   "cell_type": "code",
   "execution_count": 79,
   "id": "faa7a7e3",
   "metadata": {},
   "outputs": [],
   "source": [
    "import numpy as np\n",
    "import pandas as pd"
   ]
  },
  {
   "cell_type": "code",
   "execution_count": 80,
   "id": "a993f38e",
   "metadata": {},
   "outputs": [],
   "source": [
    "import datetime as dt"
   ]
  },
  {
   "cell_type": "code",
   "execution_count": 81,
   "id": "2488bdaa",
   "metadata": {},
   "outputs": [],
   "source": [
    "import sqlalchemy\n",
    "from sqlalchemy.ext.automap import automap_base\n",
    "from sqlalchemy.orm import session\n",
    "from sqlalchemy import create_engine, func"
   ]
  },
  {
   "cell_type": "code",
   "execution_count": 82,
   "id": "54fd4a58",
   "metadata": {},
   "outputs": [],
   "source": [
    "import sqlite3"
   ]
  },
  {
   "cell_type": "code",
   "execution_count": 83,
   "id": "56ef2679",
   "metadata": {},
   "outputs": [],
   "source": [
    "conn = sqlite3.connect(\"covid.db\")"
   ]
  },
  {
   "cell_type": "code",
   "execution_count": 84,
   "id": "d9b07c90",
   "metadata": {},
   "outputs": [],
   "source": [
    "c = conn.cursor()"
   ]
  },
  {
   "cell_type": "code",
   "execution_count": 87,
   "id": "d10a2a10",
   "metadata": {},
   "outputs": [],
   "source": [
    "machine_learning_data = pd.read_csv('C:/Users/aswim/OneDrive/Documents/GitHub/Covid_Analysis/Datasets_HL/ML_Models/Machine_Learning_Data.csv')\n",
    "machine_learning_data.to_sql('covid.db', conn, if_exists='append', index = False,)"
   ]
  },
  {
   "cell_type": "code",
   "execution_count": 88,
   "id": "70752cb1",
   "metadata": {},
   "outputs": [],
   "source": [
    "model_machine_learning_data = pd.read_csv('C:/Users/aswim/OneDrive/Documents/GitHub/Covid_Analysis/Datasets_HL/ML_Models/Machine_Learning_Data.csv')\n",
    "model_machine_learning_data.to_sql('covid.db', conn, if_exists='append', index = False,)"
   ]
  },
  {
   "cell_type": "code",
   "execution_count": null,
   "id": "2d2d961b",
   "metadata": {},
   "outputs": [],
   "source": []
  }
 ],
 "metadata": {
  "kernelspec": {
   "display_name": "Python 3",
   "language": "python",
   "name": "python3"
  },
  "language_info": {
   "codemirror_mode": {
    "name": "ipython",
    "version": 3
   },
   "file_extension": ".py",
   "mimetype": "text/x-python",
   "name": "python",
   "nbconvert_exporter": "python",
   "pygments_lexer": "ipython3",
   "version": "3.8.8"
  }
 },
 "nbformat": 4,
 "nbformat_minor": 5
}
