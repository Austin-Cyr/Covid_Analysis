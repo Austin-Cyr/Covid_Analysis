{
 "cells": [
  {
   "cell_type": "code",
   "execution_count": 48,
   "id": "faa7a7e3",
   "metadata": {},
   "outputs": [],
   "source": [
    "import numpy as np\n",
    "import pandas as pd"
   ]
  },
  {
   "cell_type": "code",
   "execution_count": 49,
   "id": "a993f38e",
   "metadata": {},
   "outputs": [],
   "source": [
    "import datetime as dt"
   ]
  },
  {
   "cell_type": "code",
   "execution_count": 50,
   "id": "2488bdaa",
   "metadata": {},
   "outputs": [],
   "source": [
    "import sqlalchemy\n",
    "from sqlalchemy.ext.automap import automap_base\n",
    "from sqlalchemy.orm import session\n",
    "from sqlalchemy import create_engine, func"
   ]
  },
  {
   "cell_type": "code",
   "execution_count": 51,
   "id": "54fd4a58",
   "metadata": {},
   "outputs": [],
   "source": [
    "import sqlite3"
   ]
  },
  {
   "cell_type": "code",
   "execution_count": 52,
   "id": "56ef2679",
   "metadata": {},
   "outputs": [],
   "source": [
    "conn = sqlite3.connect(\"covid.db\")"
   ]
  },
  {
   "cell_type": "code",
   "execution_count": 53,
   "id": "d9b07c90",
   "metadata": {},
   "outputs": [],
   "source": [
    "c = conn.cursor()"
   ]
  },
  {
   "cell_type": "code",
   "execution_count": 54,
   "id": "ca827313",
   "metadata": {},
   "outputs": [],
   "source": [
    "df_mld = pd.read_csv('C:/Users/aswim/OneDrive/Documents/GitHub/Covid_Analysis/Datasets_HL/ML_Models/Machine_Learning_Data.csv')"
   ]
  },
  {
   "cell_type": "code",
   "execution_count": 55,
   "id": "0d114ac7",
   "metadata": {},
   "outputs": [],
   "source": [
    "df_mmld = pd.read_csv('C:/Users/aswim/OneDrive/Documents/GitHub/Covid_Analysis/Datasets_HL/ML_Models/Model_Machine_Learning_Data.csv')"
   ]
  },
  {
   "cell_type": "code",
   "execution_count": 61,
   "id": "eb02ded8",
   "metadata": {},
   "outputs": [
    {
     "ename": "SyntaxError",
     "evalue": "invalid syntax (<ipython-input-61-9c588e7034d1>, line 2)",
     "output_type": "error",
     "traceback": [
      "\u001b[1;36m  File \u001b[1;32m\"<ipython-input-61-9c588e7034d1>\"\u001b[1;36m, line \u001b[1;32m2\u001b[0m\n\u001b[1;33m    CREATE TABLE IF NOT EXISTS machine_leanring_data (\u001b[0m\n\u001b[1;37m           ^\u001b[0m\n\u001b[1;31mSyntaxError\u001b[0m\u001b[1;31m:\u001b[0m invalid syntax\n"
     ]
    }
   ],
   "source": [
    "#Create Machine Learning Data table\n",
    "CREATE TABLE machine_leanring_data (\n",
    "    FIPS INTEGER,\n",
    "    State TEXT,\n",
    "    County Name TEXT,\n",
    "    Urban Rural Code INTEGER,\n",
    "    Population Estimate 2020 INTEGER,\n",
    "    Total Vaccines INTEGER,\n",
    "    Percent REAL,\n",
    "    Case Count INTEGER,\n",
    "    Percent of Population Cases REAL,\n",
    "    Total deaths INTEGER,\n",
    "    Covid-19 Deaths INTEGER,\n",
    "    Percent Deaths by Covid REAL,\n",
    "    Covid Death Percent Above Median INTEGER\n",
    ");"
   ]
  },
  {
   "cell_type": "code",
   "execution_count": 67,
   "id": "46dba7cc",
   "metadata": {},
   "outputs": [
    {
     "data": {
      "text/plain": [
       "<bound method NDFrame.to_sql of       FIPS State           County Name  Urban Rural Code  \\\n",
       "0     6113    CA           Yolo County               2.0   \n",
       "1     8041    CO        El Paso County               3.0   \n",
       "2    17029    IL          Coles County               5.0   \n",
       "3    13059    GA         Clarke County               4.0   \n",
       "4    12086    FL     Miami-Dade County               1.0   \n",
       "..     ...   ...                   ...               ...   \n",
       "794  13215    GA       Muscogee County               3.0   \n",
       "795  51540    VA  Charlottesville city               4.0   \n",
       "796  39155    OH       Trumbull County               3.0   \n",
       "797  42005    PA      Armstrong County               2.0   \n",
       "798  42125    PA     Washington County               2.0   \n",
       "\n",
       "    Urban Rural Description  Population Estimate 2020  Total Vaccines  \\\n",
       "0        Large fringe metro                  219728.0        132599.0   \n",
       "1              Medium metro                  728310.0        390344.0   \n",
       "2              Micropolitan                   50383.0         19345.0   \n",
       "3               Small metro                  127795.0         29461.0   \n",
       "4       Large central metro                 2707303.0       2027846.0   \n",
       "..                      ...                       ...             ...   \n",
       "794            Medium metro                  196442.0         62248.0   \n",
       "795             Small metro                   46950.0         22537.0   \n",
       "796            Medium metro                  196800.0         97110.0   \n",
       "797      Large fringe metro                   64162.0         34269.0   \n",
       "798      Large fringe metro                  206803.0        119896.0   \n",
       "\n",
       "     Percent Vaccinated  Case Count  Percent of Population Cases  \\\n",
       "0             60.346883     19001.0                     8.647510   \n",
       "1             53.595859     83725.0                    11.495792   \n",
       "2             38.395888      7265.0                    14.419546   \n",
       "3             23.053328     13717.0                    10.733597   \n",
       "4             74.902809    491834.0                    18.166936   \n",
       "..                  ...         ...                          ...   \n",
       "794           31.687725     16312.0                     8.303723   \n",
       "795           48.002130      4472.0                     9.525027   \n",
       "796           49.344512     18896.0                     9.601626   \n",
       "797           53.410118      6865.0                    10.699479   \n",
       "798           57.975948     20540.0                     9.932158   \n",
       "\n",
       "     Total deaths  COVID-19 Deaths  Percent Deaths by Covid  \\\n",
       "0          2259.0            203.0                 8.986277   \n",
       "1         10910.0           1234.0                11.310724   \n",
       "2          1133.0            140.0                12.356575   \n",
       "3          3421.0            550.0                16.077170   \n",
       "4         47108.0           7994.0                16.969517   \n",
       "..            ...              ...                      ...   \n",
       "794        5852.0            926.0                15.823650   \n",
       "795        2190.0            204.0                 9.315068   \n",
       "796        4134.0            441.0                10.667634   \n",
       "797        1212.0            118.0                 9.735974   \n",
       "798        4680.0            347.0                 7.414530   \n",
       "\n",
       "     Covid Death Percent Above Median  \n",
       "0                                 0.0  \n",
       "1                                 0.0  \n",
       "2                                 1.0  \n",
       "3                                 1.0  \n",
       "4                                 1.0  \n",
       "..                                ...  \n",
       "794                               1.0  \n",
       "795                               0.0  \n",
       "796                               0.0  \n",
       "797                               0.0  \n",
       "798                               0.0  \n",
       "\n",
       "[799 rows x 14 columns]>"
      ]
     },
     "execution_count": 67,
     "metadata": {},
     "output_type": "execute_result"
    }
   ],
   "source": [
    "df = pd.read_csv('C:/Users/aswim/OneDrive/Documents/GitHub/Covid_Analysis/Datasets_HL/ML_Models/Machine_Learning_Data.csv')\n",
    "df.to_sql"
   ]
  },
  {
   "cell_type": "code",
   "execution_count": 68,
   "id": "fbe286a6",
   "metadata": {},
   "outputs": [
    {
     "data": {
      "text/plain": [
       "<bound method NDFrame.to_sql of      Urban Rural Code  Population Estimate 2020  Total Vaccines  \\\n",
       "0                 2.0                  219728.0        132599.0   \n",
       "1                 3.0                  728310.0        390344.0   \n",
       "2                 5.0                   50383.0         19345.0   \n",
       "3                 4.0                  127795.0         29461.0   \n",
       "4                 1.0                 2707303.0       2027846.0   \n",
       "..                ...                       ...             ...   \n",
       "794               3.0                  196442.0         62248.0   \n",
       "795               4.0                   46950.0         22537.0   \n",
       "796               3.0                  196800.0         97110.0   \n",
       "797               2.0                   64162.0         34269.0   \n",
       "798               2.0                  206803.0        119896.0   \n",
       "\n",
       "     Percent Vaccinated  Case Count  Percent of Population Cases  \\\n",
       "0             60.346883     19001.0                     8.647510   \n",
       "1             53.595859     83725.0                    11.495792   \n",
       "2             38.395888      7265.0                    14.419546   \n",
       "3             23.053328     13717.0                    10.733597   \n",
       "4             74.902809    491834.0                    18.166936   \n",
       "..                  ...         ...                          ...   \n",
       "794           31.687725     16312.0                     8.303723   \n",
       "795           48.002130      4472.0                     9.525027   \n",
       "796           49.344512     18896.0                     9.601626   \n",
       "797           53.410118      6865.0                    10.699479   \n",
       "798           57.975948     20540.0                     9.932158   \n",
       "\n",
       "     Total deaths  Covid Death Percent Above Median  \n",
       "0          2259.0                               0.0  \n",
       "1         10910.0                               0.0  \n",
       "2          1133.0                               1.0  \n",
       "3          3421.0                               1.0  \n",
       "4         47108.0                               1.0  \n",
       "..            ...                               ...  \n",
       "794        5852.0                               1.0  \n",
       "795        2190.0                               0.0  \n",
       "796        4134.0                               0.0  \n",
       "797        1212.0                               0.0  \n",
       "798        4680.0                               0.0  \n",
       "\n",
       "[799 rows x 8 columns]>"
      ]
     },
     "execution_count": 68,
     "metadata": {},
     "output_type": "execute_result"
    }
   ],
   "source": [
    "df = pd.read_csv('C:/Users/aswim/OneDrive/Documents/GitHub/Covid_Analysis/Datasets_HL/ML_Models/Model_Machine_Learning_Data.csv')\n",
    "df.to_sql"
   ]
  },
  {
   "cell_type": "code",
   "execution_count": null,
   "id": "3866152d",
   "metadata": {},
   "outputs": [],
   "source": []
  }
 ],
 "metadata": {
  "kernelspec": {
   "display_name": "Python 3",
   "language": "python",
   "name": "python3"
  },
  "language_info": {
   "codemirror_mode": {
    "name": "ipython",
    "version": 3
   },
   "file_extension": ".py",
   "mimetype": "text/x-python",
   "name": "python",
   "nbconvert_exporter": "python",
   "pygments_lexer": "ipython3",
   "version": "3.8.8"
  }
 },
 "nbformat": 4,
 "nbformat_minor": 5
}
