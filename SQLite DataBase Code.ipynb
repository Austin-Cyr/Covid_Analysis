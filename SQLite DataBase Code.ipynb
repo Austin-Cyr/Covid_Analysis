{
 "cells": [
  {
   "cell_type": "code",
   "execution_count": 36,
   "id": "faa7a7e3",
   "metadata": {},
   "outputs": [],
   "source": [
    "import numpy as np\n",
    "import pandas as pd"
   ]
  },
  {
   "cell_type": "code",
   "execution_count": 37,
   "id": "a993f38e",
   "metadata": {},
   "outputs": [],
   "source": [
    "import datetime as dt"
   ]
  },
  {
   "cell_type": "code",
   "execution_count": 38,
   "id": "2488bdaa",
   "metadata": {},
   "outputs": [],
   "source": [
    "import sqlalchemy\n",
    "from sqlalchemy.ext.automap import automap_base\n",
    "from sqlalchemy.orm import session\n",
    "from sqlalchemy import create_engine, func"
   ]
  },
  {
   "cell_type": "code",
   "execution_count": 39,
   "id": "49e862be",
   "metadata": {},
   "outputs": [],
   "source": [
    "df_mld = pd.read_csv('C:/Users/aswim/OneDrive/Documents/GitHub/Covid_Analysis/Datasets_HL/ML_Models/Machine_Learning_Data.csv')"
   ]
  },
  {
   "cell_type": "code",
   "execution_count": 40,
   "id": "4ae41d78",
   "metadata": {},
   "outputs": [],
   "source": [
    "df_mmld = pd.read_csv('C:/Users/aswim/OneDrive/Documents/GitHub/Covid_Analysis/Datasets_HL/ML_Models/Model_Machine_Learning_Data.csv')"
   ]
  },
  {
   "cell_type": "code",
   "execution_count": 41,
   "id": "54fd4a58",
   "metadata": {},
   "outputs": [],
   "source": [
    "import sqlite3"
   ]
  },
  {
   "cell_type": "code",
   "execution_count": 42,
   "id": "56ef2679",
   "metadata": {},
   "outputs": [],
   "source": [
    "conn = sqlite3.connect(\"covid.db\")"
   ]
  },
  {
   "cell_type": "code",
   "execution_count": 43,
   "id": "d9b07c90",
   "metadata": {},
   "outputs": [],
   "source": [
    "c = conn.cursor()"
   ]
  },
  {
   "cell_type": "raw",
   "id": "d1e2c725",
   "metadata": {},
   "source": [
    "def create_table():\n",
    "    c.execute('CREAT TABLE IF NOT EXISTS machine_learning_data(FIPS , State TEXT, County Name TEXT, Urban Rural Code TEXT, P')"
   ]
  },
  {
   "cell_type": "code",
   "execution_count": null,
   "id": "26922c69",
   "metadata": {},
   "outputs": [],
   "source": []
  },
  {
   "cell_type": "code",
   "execution_count": null,
   "id": "8a8cba6c",
   "metadata": {},
   "outputs": [],
   "source": []
  }
 ],
 "metadata": {
  "kernelspec": {
   "display_name": "Python 3",
   "language": "python",
   "name": "python3"
  },
  "language_info": {
   "codemirror_mode": {
    "name": "ipython",
    "version": 3
   },
   "file_extension": ".py",
   "mimetype": "text/x-python",
   "name": "python",
   "nbconvert_exporter": "python",
   "pygments_lexer": "ipython3",
   "version": "3.8.8"
  }
 },
 "nbformat": 4,
 "nbformat_minor": 5
}
